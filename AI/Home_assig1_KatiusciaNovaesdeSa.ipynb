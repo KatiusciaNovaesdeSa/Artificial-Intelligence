{
 "cells": [
  {
   "cell_type": "code",
   "execution_count": 2,
   "metadata": {},
   "outputs": [],
   "source": [
    "import numpy as np"
   ]
  },
  {
   "cell_type": "code",
   "execution_count": 3,
   "metadata": {},
   "outputs": [],
   "source": [
    "#paw-brotherhood\n",
    "#https://py.checkio.org/mission/pawn-brotherhood/publications/KatiusciaNovaesdeSa/python-3/first/\n",
    "#def safe_pawns(pawns: set) -> int:\n",
    "def safe_pawns(pawns):\n",
    "    length = len(pawns) #get the length of list\n",
    "    pawns = list(pawns) #set to list\n",
    "    final = [] #store the result for each pawn\n",
    "    for a in range(length): #traverse through the pawns\n",
    "        final.append(0) #to add a zero as the default value for all the pawns. 1 for safe and 0 for unsafe.\n",
    "    start = 0 #starting point\n",
    "    while start < length: #to traverse through all the pawns\n",
    "        for k in pawns: #to traverse through all the possibilities in the above pawn\n",
    "            a=pawns[start] #to start\n",
    "            if ord(a[0]) == ord(k[0])-1: #checking whether we have any character just less than the character \n",
    "                if int(a[1]) == int(k[1])+1: #checking whether we have any value just less than the number, indicate the saving pawn to be either left or right of the saved pawn.\n",
    "                    final[start]=1 #if that pawn is saved by it, we mark it as 1\n",
    "            elif ord(a[0]) == ord(k[0])+1: #checking whether we have any character just greater than the character. \n",
    "                if int(a[1]) == int(k[1])+1: #checking whether we have any value just less than the number, indicate the saving pawn to be either lef\n",
    "                    final[start]=1 #if that pawn is saved by it, we mark it as 1\n",
    "        start+=1 #check the next value\n",
    "    return sum(final) #sum of the values will be the answer"
   ]
  },
  {
   "cell_type": "code",
   "execution_count": 7,
   "metadata": {},
   "outputs": [
    {
     "data": {
      "text/plain": [
       "True"
      ]
     },
     "execution_count": 7,
     "metadata": {},
     "output_type": "execute_result"
    }
   ],
   "source": [
    "safe_pawns({\"b4\", \"d4\", \"f4\", \"c3\", \"e3\", \"g5\", \"d2\"}) == 6\n",
    "safe_pawns({\"b4\", \"c4\", \"d4\", \"e4\", \"f4\", \"g4\", \"e5\"}) == 1\n",
    "\n"
   ]
  },
  {
   "cell_type": "code",
   "execution_count": 8,
   "metadata": {},
   "outputs": [],
   "source": [
    "#Long Repeat\n",
    "#https://py.checkio.org/mission/long-repeat/publications/KatiusciaNovaesdeSa/python-3/first/\n",
    "def long_repeat(line):\n",
    "    length,start,maximo,count = len(line),0,0,0\n",
    "    if length>0: #check if is not empty\n",
    "        word = line[0]\n",
    "    while start<length: #traverse thought string\n",
    "        if word == line[start]: #start\n",
    "            count+=1 #check all the letters\n",
    "            if maximo<count:   #count letters\n",
    "                maximo=count\n",
    "        else:\n",
    "            word = line[start]\n",
    "            count = 1\n",
    "        start+=1\n",
    "    return maximo #return max letter"
   ]
  },
  {
   "cell_type": "code",
   "execution_count": 9,
   "metadata": {},
   "outputs": [
    {
     "data": {
      "text/plain": [
       "(True, 'Empty')"
      ]
     },
     "execution_count": 9,
     "metadata": {},
     "output_type": "execute_result"
    }
   ],
   "source": [
    "long_repeat('sdsffffse') == 4, \"First\"\n",
    "long_repeat('ddvvrwwwrggg') == 3, \"Second\"\n",
    "long_repeat('abababaab') == 2, \"Third\"\n",
    "long_repeat('') == 0, \"Empty\""
   ]
  },
  {
   "cell_type": "code",
   "execution_count": 4,
   "metadata": {},
   "outputs": [
    {
     "data": {
      "text/plain": [
       "True"
      ]
     },
     "execution_count": 4,
     "metadata": {},
     "output_type": "execute_result"
    }
   ],
   "source": [
    "#x-o-referee\n",
    "#https://py.checkio.org/mission/x-o-referee/publications/KatiusciaNovaesdeSa/python-3/first/\n",
    "#from typing import List\n",
    "\n",
    "#def checkio(game_result: List[str]) -> str:\n",
    "def checkio(game_result):\n",
    "    start=0 # start\n",
    "    for j in game_result: #check the horizontal values\n",
    "        if j[0] == j[1] == j[2] and j[0] != '.': # if the horizontal values are equal\n",
    "            return j[0] # then is the winner\n",
    "    while start<len(game_result): #check the vertical values\n",
    "        if game_result[0][start] == game_result[1][start] == game_result[2][start] and game_result[0][start] != '.':\n",
    "            return game_result[0][start]\n",
    "        start+=1\n",
    "    if game_result[0][0] == game_result[1][1] == game_result[2][2] and game_result[1][1] != '.': #check one diagonal value\n",
    "        return game_result[0][0]\n",
    "    if game_result[0][2] == game_result[1][1] == game_result[2][0] and game_result[1][1] != '.': #check the other diagonal value\n",
    "        return game_result[0][2]\n",
    "    return \"D\" #if no winner was found, it is a Draw"
   ]
  },
  {
   "cell_type": "code",
   "execution_count": null,
   "metadata": {},
   "outputs": [],
   "source": []
  },
  {
   "cell_type": "code",
   "execution_count": 6,
   "metadata": {},
   "outputs": [
    {
     "name": "stdout",
     "output_type": "stream",
     "text": [
      "Example:\n",
      "X\n"
     ]
    },
    {
     "data": {
      "text/plain": [
       "(True, 'Xs wins again')"
      ]
     },
     "execution_count": 6,
     "metadata": {},
     "output_type": "execute_result"
    }
   ],
   "source": [
    "print(\"Example:\")\n",
    "print(checkio([\"X.O\",\n",
    "                   \"XX.\",\n",
    "                   \"XOO\"]))\n",
    "\n",
    "    #These \"asserts\" using only for self-checking and not necessary for auto-testing\n",
    "checkio([\n",
    "        \"X.O\",\n",
    "        \"XX.\",\n",
    "        \"XOO\"]) == \"X\", \"Xs wins\"\n",
    "checkio([\n",
    "        \"OO.\",\n",
    "        \"XOX\",\n",
    "        \"XOX\"]) == \"O\", \"Os wins\"\n",
    "checkio([\n",
    "        \"OOX\",\n",
    "        \"XXO\",\n",
    "        \"OXX\"]) == \"D\", \"Draw\"\n",
    "checkio([\n",
    "        \"O.X\",\n",
    "        \"XX.\",\n",
    "        \"XOO\"]) == \"X\", \"Xs wins again\""
   ]
  },
  {
   "cell_type": "code",
   "execution_count": null,
   "metadata": {},
   "outputs": [],
   "source": []
  }
 ],
 "metadata": {
  "kernelspec": {
   "display_name": "Python 3",
   "language": "python",
   "name": "python3"
  },
  "language_info": {
   "codemirror_mode": {
    "name": "ipython",
    "version": 3
   },
   "file_extension": ".py",
   "mimetype": "text/x-python",
   "name": "python",
   "nbconvert_exporter": "python",
   "pygments_lexer": "ipython3",
   "version": "3.7.4"
  }
 },
 "nbformat": 4,
 "nbformat_minor": 2
}
