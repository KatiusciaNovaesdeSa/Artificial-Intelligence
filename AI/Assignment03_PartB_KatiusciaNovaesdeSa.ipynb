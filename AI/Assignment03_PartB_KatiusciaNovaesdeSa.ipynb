{
  "nbformat": 4,
  "nbformat_minor": 0,
  "metadata": {
    "colab": {
      "name": "Assignment03_PartB.ipynb",
      "provenance": [],
      "collapsed_sections": []
    },
    "kernelspec": {
      "name": "python3",
      "display_name": "Python 3"
    },
    "language_info": {
      "codemirror_mode": {
        "name": "ipython",
        "version": 3
      },
      "file_extension": ".py",
      "mimetype": "text/x-python",
      "name": "python",
      "nbconvert_exporter": "python",
      "pygments_lexer": "ipython3",
      "version": "3.7.4"
    },
    "accelerator": "GPU"
  },
  "cells": [
    {
      "cell_type": "markdown",
      "metadata": {
        "id": "zxkBGcljgRqG",
        "colab_type": "text"
      },
      "source": [
        "### 1.   Run the Neural Network as it is and check the accuracy\n",
        "### 2.   Improve the accuracy adding more Convolution layers to your model\n",
        "\n"
      ]
    },
    {
      "cell_type": "markdown",
      "metadata": {
        "id": "AvWKdFZ5TlZO",
        "colab_type": "text"
      },
      "source": [
        "# Importing Libraries"
      ]
    },
    {
      "cell_type": "code",
      "metadata": {
        "colab_type": "code",
        "id": "2NWy3lIsLnE4",
        "colab": {}
      },
      "source": [
        "import keras\n",
        "import matplotlib.pyplot as plt\n",
        "import numpy as np\n",
        "import tensorflow as tf\n",
        "from keras.utils import to_categorical\n",
        "from keras.models import Sequential\n",
        "from keras.layers import Dense, Flatten, Conv2D, MaxPooling2D, Dropout\n",
        "from keras.constraints import max_norm\n",
        "#import cifar10 dataset from keras\n",
        "from keras.datasets import cifar10"
      ],
      "execution_count": 0,
      "outputs": []
    },
    {
      "cell_type": "markdown",
      "metadata": {
        "colab_type": "text",
        "id": "3UwOSM03Ml8V"
      },
      "source": [
        "# Preparing the dataset\n",
        "\n",
        "Read more about cifar10 dataset here \n",
        "https://www.cs.toronto.edu/~kriz/cifar.html\n",
        "\n"
      ]
    },
    {
      "cell_type": "code",
      "metadata": {
        "colab_type": "code",
        "id": "NGSN8N5OMBLD",
        "colab": {}
      },
      "source": [
        "#load the dataset\n",
        "(train_images, train_labels),(test_images, test_labels) = cifar10.load_data()"
      ],
      "execution_count": 0,
      "outputs": []
    },
    {
      "cell_type": "code",
      "metadata": {
        "colab_type": "code",
        "id": "6aHVMjBfQHKm",
        "colab": {}
      },
      "source": [
        "# one hot encode target values\n",
        "train_labels = to_categorical(train_labels,10)\n",
        "test_labels = to_categorical(test_labels,10)\n",
        "# convert from integers to floats\n",
        "train_images = train_images.astype('float32')\n",
        "test_images = test_images.astype('float32')\n",
        "# normalize to range 0-1\n",
        "train_images = train_images / 255.0\n",
        "test_images = test_images / 255.0"
      ],
      "execution_count": 0,
      "outputs": []
    },
    {
      "cell_type": "markdown",
      "metadata": {
        "id": "XP9A1L4ATVQx",
        "colab_type": "text"
      },
      "source": [
        "#Building the neural network model"
      ]
    },
    {
      "cell_type": "code",
      "metadata": {
        "colab_type": "code",
        "id": "R0Cm2k87ZelZ",
        "colab": {}
      },
      "source": [
        "model = keras.Sequential([\n",
        "        keras.layers.Conv2D(32, (3,3), padding='same', activation='relu',kernel_constraint=max_norm(3),\n",
        "                                input_shape=(32, 32, 3)),\n",
        "        keras.layers.MaxPooling2D((2, 2)),\n",
        "        #keras.layers.Dropout(0.4),\n",
        "        keras.layers.Flatten(),        \n",
        "        keras.layers.Dense(128, activation='relu'),\n",
        "        keras.layers.Dense(10, activation='softmax'),\n",
        "])"
      ],
      "execution_count": 0,
      "outputs": []
    },
    {
      "cell_type": "code",
      "metadata": {
        "colab_type": "code",
        "id": "5egTwGtaZrPh",
        "colab": {}
      },
      "source": [
        "#model compilation\n",
        "model.compile(optimizer=\"adam\", loss='categorical_crossentropy', metrics=['accuracy'])"
      ],
      "execution_count": 0,
      "outputs": []
    },
    {
      "cell_type": "code",
      "metadata": {
        "colab_type": "code",
        "id": "qCoNxJ8vafMt",
        "outputId": "bfb9c252-2b6c-42cd-ca39-5cc8f904184f",
        "colab": {
          "base_uri": "https://localhost:8080/",
          "height": 323
        }
      },
      "source": [
        "model.summary()"
      ],
      "execution_count": 0,
      "outputs": [
        {
          "output_type": "stream",
          "text": [
            "Model: \"sequential_6\"\n",
            "_________________________________________________________________\n",
            "Layer (type)                 Output Shape              Param #   \n",
            "=================================================================\n",
            "conv2d_48 (Conv2D)           (None, 32, 32, 32)        896       \n",
            "_________________________________________________________________\n",
            "max_pooling2d_23 (MaxPooling (None, 16, 16, 32)        0         \n",
            "_________________________________________________________________\n",
            "flatten_12 (Flatten)         (None, 8192)              0         \n",
            "_________________________________________________________________\n",
            "dense_17 (Dense)             (None, 128)               1048704   \n",
            "_________________________________________________________________\n",
            "dense_18 (Dense)             (None, 10)                1290      \n",
            "=================================================================\n",
            "Total params: 1,050,890\n",
            "Trainable params: 1,050,890\n",
            "Non-trainable params: 0\n",
            "_________________________________________________________________\n"
          ],
          "name": "stdout"
        }
      ]
    },
    {
      "cell_type": "markdown",
      "metadata": {
        "id": "HPu6bEzuUi3N",
        "colab_type": "text"
      },
      "source": [
        "### CustomCallback class for logging"
      ]
    },
    {
      "cell_type": "code",
      "metadata": {
        "colab_type": "code",
        "id": "KzXh8GMIgYZF",
        "colab": {}
      },
      "source": [
        "class CustomCallback(tf.keras.callbacks.Callback):\n",
        "  def on_epoch_end(self, epoch, logs={}):\n",
        "    if(epoch % 5 ==0):\n",
        "      print(\" Finished epoch #\",epoch)\n",
        "      print('Accuracy resched train is',logs.get('acc'))\n",
        "      print('Accuracy reached val is',logs.get('val_acc'))\n",
        "      return"
      ],
      "execution_count": 0,
      "outputs": []
    },
    {
      "cell_type": "markdown",
      "metadata": {
        "id": "2uJfNrhAUx_0",
        "colab_type": "text"
      },
      "source": [
        "# Training the Nework"
      ]
    },
    {
      "cell_type": "code",
      "metadata": {
        "id": "DFR-jJzp_XKm",
        "colab_type": "code",
        "outputId": "f2dc707d-376b-405c-c624-3809ed84574c",
        "colab": {
          "base_uri": "https://localhost:8080/",
          "height": 527
        }
      },
      "source": [
        "cc=CustomCallback()\n",
        "#Train the Network with train_images and train_labels\n",
        "history = model.fit(train_images, train_labels, epochs=50, batch_size=256,verbose =0,validation_data=(test_images,test_labels),\n",
        "          callbacks = [cc])"
      ],
      "execution_count": 0,
      "outputs": [
        {
          "output_type": "stream",
          "text": [
            " Finished epoch # 0\n",
            "Accuracy resched train is 0.42584000001907346\n",
            "Accuracy reached val is 0.5061\n",
            " Finished epoch # 5\n",
            "Accuracy resched train is 0.6565\n",
            "Accuracy reached val is 0.6187\n",
            " Finished epoch # 10\n",
            "Accuracy resched train is 0.7248199999809265\n",
            "Accuracy reached val is 0.653\n",
            " Finished epoch # 15\n",
            "Accuracy resched train is 0.78018\n",
            "Accuracy reached val is 0.6532\n",
            " Finished epoch # 20\n",
            "Accuracy resched train is 0.824880000038147\n",
            "Accuracy reached val is 0.6576\n",
            " Finished epoch # 25\n",
            "Accuracy resched train is 0.865440000038147\n",
            "Accuracy reached val is 0.6523\n",
            " Finished epoch # 30\n",
            "Accuracy resched train is 0.9067799999809265\n",
            "Accuracy reached val is 0.6555\n",
            " Finished epoch # 35\n",
            "Accuracy resched train is 0.939040000038147\n",
            "Accuracy reached val is 0.6557\n",
            " Finished epoch # 40\n",
            "Accuracy resched train is 0.959679999961853\n",
            "Accuracy reached val is 0.6494\n",
            " Finished epoch # 45\n",
            "Accuracy resched train is 0.979620000038147\n",
            "Accuracy reached val is 0.6462\n"
          ],
          "name": "stdout"
        }
      ]
    },
    {
      "cell_type": "markdown",
      "metadata": {
        "id": "iQzPCajaVDKd",
        "colab_type": "text"
      },
      "source": [
        "### Plotting the Results"
      ]
    },
    {
      "cell_type": "code",
      "metadata": {
        "id": "AJgZb8kG_dgC",
        "colab_type": "code",
        "outputId": "b48b85f2-6d36-4af5-b18a-39e0dffbf70c",
        "colab": {
          "base_uri": "https://localhost:8080/",
          "height": 428
        }
      },
      "source": [
        "plt.figure(figsize=[8,6])\n",
        "plt.plot(history.history['acc'],'black',linewidth=3.0)\n",
        "plt.plot(history.history['val_acc'],'black',ls='--',linewidth=3.0)\n",
        "plt.legend(['Training Accuracy','Validaion Accuracy'],fontsize=18,loc='lower right')\n",
        "plt.xlabel('Epochs',fontsize=16)\n",
        "plt.ylabel('Accuracy',fontsize=16)\n",
        "plt.title('Accuracy Curves',fontsize=16)"
      ],
      "execution_count": 0,
      "outputs": [
        {
          "output_type": "execute_result",
          "data": {
            "text/plain": [
              "Text(0.5, 1.0, 'Accuracy Curves')"
            ]
          },
          "metadata": {
            "tags": []
          },
          "execution_count": 15
        },
        {
          "output_type": "display_data",
          "data": {
            "image/png": "[encoded data removed]",
            "text/plain": [
              "<Figure size 576x432 with 1 Axes>"
            ]
          },
          "metadata": {
            "tags": []
          }
        }
      ]
    },
    {
      "cell_type": "code",
      "metadata": {
        "id": "g6lgGbB3pE2-",
        "colab_type": "code",
        "outputId": "a1193692-a43e-4da1-debd-22e6b8071b37",
        "colab": {
          "base_uri": "https://localhost:8080/",
          "height": 34
        }
      },
      "source": [
        "#printing actual accuracy... 63% only\n",
        "test_loss, test_acc = model.evaluate(test_images,  test_labels, verbose=2)\n",
        "print(test_acc)"
      ],
      "execution_count": 0,
      "outputs": [
        {
          "output_type": "stream",
          "text": [
            "0.6328\n"
          ],
          "name": "stdout"
        }
      ]
    },
    {
      "cell_type": "markdown",
      "metadata": {
        "id": "oNZOdVB3cN7r",
        "colab_type": "text"
      },
      "source": [
        "Hint: This overfitting can be avoided using Dropout\n",
        "https://www.youtube.com/watch?v=bRyOi0L6Rs8"
      ]
    },
    {
      "cell_type": "code",
      "metadata": {
        "id": "trjWCjjXrCrw",
        "colab_type": "code",
        "colab": {}
      },
      "source": [
        "#add more layers\n",
        "#model = keras.Sequential()\n",
        "#model.add(keras.layers.Flatten())\n",
        "#keras.layers.Dropout(0.5)\n",
        "#keras.layers.Dense(10, activation='softmax')\n",
        "\n",
        "#model = keras.Sequential()\n",
        "#model.add(Flatten())\n",
        "#model.add(keras.layers.Dense(128, activation='relu'))\n",
        "#model.add(keras.layers.Dropout(0.4))\n",
        "#model.add(keras.layers.Dense(10, activation='softmax'))\n",
        "\n"
      ],
      "execution_count": 0,
      "outputs": []
    },
    {
      "cell_type": "code",
      "metadata": {
        "id": "MnpMgZ6oDBNL",
        "colab_type": "code",
        "colab": {}
      },
      "source": [
        "# import BatchNormalization\n",
        "from keras.layers.normalization import BatchNormalization\n"
      ],
      "execution_count": 0,
      "outputs": []
    },
    {
      "cell_type": "code",
      "metadata": {
        "id": "QOAwrdVyBrsn",
        "colab_type": "code",
        "colab": {}
      },
      "source": [
        "model = keras.Sequential([\n",
        "                         \n",
        "  Conv2D(32, kernel_size=(3, 3), activation='relu',padding='same'),\n",
        "  Conv2D(32, kernel_size=(3, 3), activation='relu',padding='same'),\n",
        "  MaxPooling2D(pool_size=(2, 2),strides=2),\n",
        "  Dropout(0.2),\n",
        "  Conv2D(64, kernel_size=(3, 3), activation='relu'),\n",
        "  Conv2D(64, kernel_size=(3, 3), activation='relu'),\n",
        "  BatchNormalization(),\n",
        "  MaxPooling2D(pool_size=(2, 2),strides=2),\n",
        "  Dropout(0.3),\n",
        "  Flatten(),\n",
        "  Dense(256, activation='relu'),\n",
        "  BatchNormalization(),\n",
        "  Dropout(0.4),\n",
        "  Dense(256, activation='relu'),\n",
        "  Dense(10, activation='softmax')\n",
        "  ])"
      ],
      "execution_count": 0,
      "outputs": []
    },
    {
      "cell_type": "code",
      "metadata": {
        "id": "F6oqjcbStFqF",
        "colab_type": "code",
        "colab": {}
      },
      "source": [
        "#compile\n",
        "model.compile(optimizer=\"adam\", loss='categorical_crossentropy', metrics=['accuracy'])\n"
      ],
      "execution_count": 0,
      "outputs": []
    },
    {
      "cell_type": "code",
      "metadata": {
        "id": "kf6M0smAybqr",
        "colab_type": "code",
        "outputId": "727e6710-c409-4bd5-c29a-034b211588c7",
        "colab": {
          "base_uri": "https://localhost:8080/",
          "height": 527
        }
      },
      "source": [
        "cc=CustomCallback()\n",
        "#Train the Network with train_images and train_labels\n",
        "history = model.fit(train_images, train_labels, epochs=50, batch_size=256,verbose =0,validation_data=(test_images,test_labels),\n",
        "          callbacks = [cc])"
      ],
      "execution_count": 0,
      "outputs": [
        {
          "output_type": "stream",
          "text": [
            " Finished epoch # 0\n",
            "Accuracy resched train is 0.2607000000190735\n",
            "Accuracy reached val is 0.3774\n",
            " Finished epoch # 5\n",
            "Accuracy resched train is 0.609139999961853\n",
            "Accuracy reached val is 0.5954\n",
            " Finished epoch # 10\n",
            "Accuracy resched train is 0.6959400000381469\n",
            "Accuracy reached val is 0.6958\n",
            " Finished epoch # 15\n",
            "Accuracy resched train is 0.73706\n",
            "Accuracy reached val is 0.7098\n",
            " Finished epoch # 20\n",
            "Accuracy resched train is 0.760519999961853\n",
            "Accuracy reached val is 0.7801\n",
            " Finished epoch # 25\n",
            "Accuracy resched train is 0.7805000000190735\n",
            "Accuracy reached val is 0.7839\n",
            " Finished epoch # 30\n",
            "Accuracy resched train is 0.7902199999809265\n",
            "Accuracy reached val is 0.7863\n",
            " Finished epoch # 35\n",
            "Accuracy resched train is 0.8004199999809265\n",
            "Accuracy reached val is 0.8102\n",
            " Finished epoch # 40\n",
            "Accuracy resched train is 0.8072600000190735\n",
            "Accuracy reached val is 0.7989\n",
            " Finished epoch # 45\n",
            "Accuracy resched train is 0.814859999961853\n",
            "Accuracy reached val is 0.8067\n"
          ],
          "name": "stdout"
        }
      ]
    },
    {
      "cell_type": "code",
      "metadata": {
        "id": "mT0HRoCrE1K8",
        "colab_type": "code",
        "outputId": "d47ddd39-9f44-4ed8-b268-2e6734471bac",
        "colab": {
          "base_uri": "https://localhost:8080/",
          "height": 629
        }
      },
      "source": [
        "model.summary()"
      ],
      "execution_count": 0,
      "outputs": [
        {
          "output_type": "stream",
          "text": [
            "Model: \"sequential_8\"\n",
            "_________________________________________________________________\n",
            "Layer (type)                 Output Shape              Param #   \n",
            "=================================================================\n",
            "conv2d_53 (Conv2D)           (None, 32, 32, 32)        896       \n",
            "_________________________________________________________________\n",
            "conv2d_54 (Conv2D)           (None, 32, 32, 32)        9248      \n",
            "_________________________________________________________________\n",
            "max_pooling2d_26 (MaxPooling (None, 16, 16, 32)        0         \n",
            "_________________________________________________________________\n",
            "dropout_4 (Dropout)          (None, 16, 16, 32)        0         \n",
            "_________________________________________________________________\n",
            "conv2d_55 (Conv2D)           (None, 14, 14, 64)        18496     \n",
            "_________________________________________________________________\n",
            "conv2d_56 (Conv2D)           (None, 12, 12, 64)        36928     \n",
            "_________________________________________________________________\n",
            "batch_normalization_8 (Batch (None, 12, 12, 64)        256       \n",
            "_________________________________________________________________\n",
            "max_pooling2d_27 (MaxPooling (None, 6, 6, 64)          0         \n",
            "_________________________________________________________________\n",
            "dropout_5 (Dropout)          (None, 6, 6, 64)          0         \n",
            "_________________________________________________________________\n",
            "flatten_14 (Flatten)         (None, 2304)              0         \n",
            "_________________________________________________________________\n",
            "dense_21 (Dense)             (None, 256)               590080    \n",
            "_________________________________________________________________\n",
            "batch_normalization_9 (Batch (None, 256)               1024      \n",
            "_________________________________________________________________\n",
            "dropout_6 (Dropout)          (None, 256)               0         \n",
            "_________________________________________________________________\n",
            "dense_22 (Dense)             (None, 10)                2570      \n",
            "=================================================================\n",
            "Total params: 659,498\n",
            "Trainable params: 658,858\n",
            "Non-trainable params: 640\n",
            "_________________________________________________________________\n"
          ],
          "name": "stdout"
        }
      ]
    },
    {
      "cell_type": "code",
      "metadata": {
        "id": "j_Jaq-NgrDm8",
        "colab_type": "code",
        "outputId": "391594ea-b51e-49d9-e1bc-7fa05573ab3d",
        "colab": {
          "base_uri": "https://localhost:8080/",
          "height": 428
        }
      },
      "source": [
        "#plot\n",
        "plt.figure(figsize=[8,6])\n",
        "plt.plot(history.history['acc'],'black',linewidth=3.0)\n",
        "plt.plot(history.history['val_acc'],'black',ls='--',linewidth=3.0)\n",
        "plt.legend(['Training Accuracy','Validaion Accuracy'],fontsize=18,loc='lower right')\n",
        "plt.xlabel('Epochs',fontsize=16)\n",
        "plt.ylabel('Accuracy',fontsize=16)\n",
        "plt.title('Accuracy Curves',fontsize=16)"
      ],
      "execution_count": 0,
      "outputs": [
        {
          "output_type": "execute_result",
          "data": {
            "text/plain": [
              "Text(0.5, 1.0, 'Accuracy Curves')"
            ]
          },
          "metadata": {
            "tags": []
          },
          "execution_count": 54
        },
        {
          "output_type": "display_data",
          "data": {
            "image/png": "[encoded data removed]",
            "text/plain": [
              "<Figure size 576x432 with 1 Axes>"
            ]
          },
          "metadata": {
            "tags": []
          }
        }
      ]
    },
    {
      "cell_type": "code",
      "metadata": {
        "id": "mN8V2lMOEwRc",
        "colab_type": "code",
        "colab": {}
      },
      "source": [
        ""
      ],
      "execution_count": 0,
      "outputs": []
    },
    {
      "cell_type": "code",
      "metadata": {
        "id": "pSwiJQ0Ls2H1",
        "colab_type": "code",
        "outputId": "2340128e-f058-4e26-bafc-4059ee1c739b",
        "colab": {
          "base_uri": "https://localhost:8080/",
          "height": 34
        }
      },
      "source": [
        "#printing actual accuracy... 82%\n",
        "test_loss, test_acc = model.evaluate(test_images,  test_labels, verbose=2)\n",
        "print(test_acc)"
      ],
      "execution_count": 0,
      "outputs": [
        {
          "output_type": "stream",
          "text": [
            "0.8137\n"
          ],
          "name": "stdout"
        }
      ]
    },
    {
      "cell_type": "code",
      "metadata": {
        "id": "W6GXRml4xpos",
        "colab_type": "code",
        "colab": {}
      },
      "source": [
        ""
      ],
      "execution_count": 0,
      "outputs": []
    }
  ]
}